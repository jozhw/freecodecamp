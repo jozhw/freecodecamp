{
 "cells": [
  {
   "cell_type": "markdown",
   "id": "fe6c702c",
   "metadata": {},
   "source": [
    "# freecodecamp demographics project\n",
    "\n",
    "## this includes my personal learnings\n"
   ]
  },
  {
   "cell_type": "code",
   "execution_count": 67,
   "id": "81302fc2",
   "metadata": {},
   "outputs": [],
   "source": [
    "#importing the necessary packages\n",
    "import numpy as py\n",
    "import pandas as pd"
   ]
  },
  {
   "cell_type": "code",
   "execution_count": 178,
   "id": "b8571a29",
   "metadata": {},
   "outputs": [
    {
     "data": {
      "text/plain": [
       "Index(['age', 'workclass', 'fnlwgt', 'education', 'education-num',\n",
       "       'marital-status', 'occupation', 'relationship', 'race', 'sex',\n",
       "       'capital-gain', 'capital-loss', 'hours-per-week', 'native-country',\n",
       "       'salary'],\n",
       "      dtype='object')"
      ]
     },
     "execution_count": 178,
     "metadata": {},
     "output_type": "execute_result"
    }
   ],
   "source": [
    "df = pd.read_csv('adult.data.csv')\n",
    "\n",
    "df.columns\n",
    "\n",
    "#df.info() - gives info about the dataframe\n",
    "#df.head() or df.tail - gives the top 5 or bottom 5 (default - can change when putting in the argument)\n",
    "#df.describe() - gives stats"
   ]
  },
  {
   "cell_type": "code",
   "execution_count": 16,
   "id": "4ee7670a",
   "metadata": {},
   "outputs": [
    {
     "data": {
      "text/plain": [
       "White                 27816\n",
       "Black                  3124\n",
       "Asian-Pac-Islander     1039\n",
       "Amer-Indian-Eskimo      311\n",
       "Other                   271\n",
       "Name: race, dtype: int64"
      ]
     },
     "execution_count": 16,
     "metadata": {},
     "output_type": "execute_result"
    }
   ],
   "source": [
    "#count the number of each race in the dataset:\n",
    "df['race'].value_counts()\n",
    "\n",
    "\n",
    "\n",
    "#race_count = race_count = pd.Series([27816, 3124, 1039, 311, 271], index =['White', 'Black', 'Asian-Pac-Islander', 'Amer-Indian-Eskimo', 'Other'])\n",
    "    "
   ]
  },
  {
   "cell_type": "code",
   "execution_count": 35,
   "id": "3790b494",
   "metadata": {},
   "outputs": [
    {
     "name": "stderr",
     "output_type": "stream",
     "text": [
      "/var/folders/xy/2gbjtsr91qn8_70909kx9tf40000gn/T/ipykernel_48918/1414265233.py:1: FutureWarning: Dropping of nuisance columns in DataFrame reductions (with 'numeric_only=None') is deprecated; in a future version this will raise TypeError.  Select only valid columns before calling the reduction.\n",
      "  df.loc[(df['sex'] == 'Male')].mean()\n"
     ]
    },
    {
     "data": {
      "text/plain": [
       "age                   39.433547\n",
       "fnlwgt            191771.449013\n",
       "education-num         10.102891\n",
       "capital-gain        1329.370078\n",
       "capital-loss         100.213309\n",
       "hours-per-week        42.428086\n",
       "dtype: float64"
      ]
     },
     "execution_count": 35,
     "metadata": {},
     "output_type": "execute_result"
    }
   ],
   "source": [
    "df.loc[(df['sex'] == 'Male')].mean()\n",
    "#average_age_men = 39.433547"
   ]
  },
  {
   "cell_type": "code",
   "execution_count": 31,
   "id": "5a2b6b71",
   "metadata": {},
   "outputs": [
    {
     "data": {
      "text/plain": [
       "HS-grad         0.322502\n",
       "Some-college    0.223918\n",
       "Bachelors       0.164461\n",
       "Masters         0.052916\n",
       "Assoc-voc       0.042443\n",
       "11th            0.036086\n",
       "Assoc-acdm      0.032769\n",
       "10th            0.028654\n",
       "7th-8th         0.019840\n",
       "Prof-school     0.017690\n",
       "9th             0.015786\n",
       "12th            0.013298\n",
       "Doctorate       0.012684\n",
       "5th-6th         0.010227\n",
       "1st-4th         0.005160\n",
       "Preschool       0.001566\n",
       "Name: education, dtype: float64"
      ]
     },
     "execution_count": 31,
     "metadata": {},
     "output_type": "execute_result"
    }
   ],
   "source": [
    "df['education'].value_counts('Bachelors')\n",
    "#percentage_bachelors = 0.164461 * 100"
   ]
  },
  {
   "cell_type": "code",
   "execution_count": 112,
   "id": "44c2d922",
   "metadata": {},
   "outputs": [
    {
     "data": {
      "text/html": [
       "<div>\n",
       "<style scoped>\n",
       "    .dataframe tbody tr th:only-of-type {\n",
       "        vertical-align: middle;\n",
       "    }\n",
       "\n",
       "    .dataframe tbody tr th {\n",
       "        vertical-align: top;\n",
       "    }\n",
       "\n",
       "    .dataframe thead th {\n",
       "        text-align: right;\n",
       "    }\n",
       "</style>\n",
       "<table border=\"1\" class=\"dataframe\">\n",
       "  <thead>\n",
       "    <tr style=\"text-align: right;\">\n",
       "      <th></th>\n",
       "      <th>education</th>\n",
       "    </tr>\n",
       "    <tr>\n",
       "      <th>salary</th>\n",
       "      <th></th>\n",
       "    </tr>\n",
       "  </thead>\n",
       "  <tbody>\n",
       "    <tr>\n",
       "      <th>&lt;=50K</th>\n",
       "      <td>4005</td>\n",
       "    </tr>\n",
       "    <tr>\n",
       "      <th>&gt;50K</th>\n",
       "      <td>3486</td>\n",
       "    </tr>\n",
       "  </tbody>\n",
       "</table>\n",
       "</div>"
      ],
      "text/plain": [
       "        education\n",
       "salary           \n",
       "<=50K        4005\n",
       ">50K         3486"
      ]
     },
     "execution_count": 112,
     "metadata": {},
     "output_type": "execute_result"
    }
   ],
   "source": [
    "sal = df.loc[(df['education'] == 'Bachelors') | (df['education'] == 'Masters') | (df['education'] == 'Doctorate'),['salary', 'education']]\n",
    "\n",
    "sal.groupby(['salary']).count()\n",
    "\n",
    "#higher_education = 3486 * 100 /(4005 + 3486)\n"
   ]
  },
  {
   "cell_type": "code",
   "execution_count": 123,
   "id": "3cf14411",
   "metadata": {},
   "outputs": [
    {
     "data": {
      "text/html": [
       "<div>\n",
       "<style scoped>\n",
       "    .dataframe tbody tr th:only-of-type {\n",
       "        vertical-align: middle;\n",
       "    }\n",
       "\n",
       "    .dataframe tbody tr th {\n",
       "        vertical-align: top;\n",
       "    }\n",
       "\n",
       "    .dataframe thead th {\n",
       "        text-align: right;\n",
       "    }\n",
       "</style>\n",
       "<table border=\"1\" class=\"dataframe\">\n",
       "  <thead>\n",
       "    <tr style=\"text-align: right;\">\n",
       "      <th></th>\n",
       "      <th>education</th>\n",
       "    </tr>\n",
       "    <tr>\n",
       "      <th>salary</th>\n",
       "      <th></th>\n",
       "    </tr>\n",
       "  </thead>\n",
       "  <tbody>\n",
       "    <tr>\n",
       "      <th>&lt;=50K</th>\n",
       "      <td>20715</td>\n",
       "    </tr>\n",
       "    <tr>\n",
       "      <th>&gt;50K</th>\n",
       "      <td>4355</td>\n",
       "    </tr>\n",
       "  </tbody>\n",
       "</table>\n",
       "</div>"
      ],
      "text/plain": [
       "        education\n",
       "salary           \n",
       "<=50K       20715\n",
       ">50K         4355"
      ]
     },
     "execution_count": 123,
     "metadata": {},
     "output_type": "execute_result"
    }
   ],
   "source": [
    "nsal = df.loc[~((df['education'] == 'Bachelors') | (df['education'] == 'Masters') | (df['education'] == 'Doctorate')),['salary', 'education']]\n",
    "\n",
    "nsal.groupby(['salary']).count()\n",
    "\n",
    "#lower_education = 4355 * 100 / (20715 + 4355)"
   ]
  },
  {
   "cell_type": "code",
   "execution_count": 124,
   "id": "e73fb113",
   "metadata": {},
   "outputs": [
    {
     "name": "stdout",
     "output_type": "stream",
     "text": [
      "46.5\n",
      "17.4\n"
     ]
    }
   ],
   "source": [
    "higher_education = 3486 * 100 /(4005 + 3486)\n",
    "print(round(higher_education, 1))\n",
    "lower_education = 4355 * 100 / (20715 + 4355)\n",
    "print(round(lower_education, 1))"
   ]
  },
  {
   "cell_type": "code",
   "execution_count": 136,
   "id": "1cd30190",
   "metadata": {},
   "outputs": [
    {
     "name": "stdout",
     "output_type": "stream",
     "text": [
      "Total education is 32561 \n",
      "Total without advanced education is 25070 \n"
     ]
    }
   ],
   "source": [
    "tedu = df.loc[:, ['education']]\n",
    "print('Total education is %d ' % tedu.count())\n",
    "edu = df.loc[~((df['education'] == 'Bachelors') | (df['education'] == 'Masters') | (df['education'] == 'Doctorate')),'education']\n",
    "print('Total without advanced education is %d ' % edu.count())\n"
   ]
  },
  {
   "cell_type": "code",
   "execution_count": 140,
   "id": "7343d9f7",
   "metadata": {},
   "outputs": [
    {
     "data": {
      "text/plain": [
       "1"
      ]
     },
     "execution_count": 140,
     "metadata": {},
     "output_type": "execute_result"
    }
   ],
   "source": [
    "#df['hours-per-week'].sort_values(ascending=False)\n",
    "df['hours-per-week'].min()"
   ]
  },
  {
   "cell_type": "code",
   "execution_count": 159,
   "id": "d98dcc48",
   "metadata": {},
   "outputs": [
    {
     "name": "stdout",
     "output_type": "stream",
     "text": [
      "Total amount is 20\n"
     ]
    },
    {
     "data": {
      "text/plain": [
       "salary\n",
       "<=50K     18\n",
       ">50K       2\n",
       "dtype: int64"
      ]
     },
     "execution_count": 159,
     "metadata": {},
     "output_type": "execute_result"
    }
   ],
   "source": [
    "hrs = df.loc[(df['hours-per-week'] == df['hours-per-week'].min()), ['salary']]\n",
    "print(\"Total amount is %d\" % hrs.count())\n",
    "hrs.value_counts()\n",
    "\n",
    "#num_min_workers = round(2/20, 1)\n",
    "\n",
    "#rich_percentage = round(18/20, 1)"
   ]
  },
  {
   "cell_type": "code",
   "execution_count": 194,
   "id": "3f08622e",
   "metadata": {},
   "outputs": [
    {
     "data": {
      "text/plain": [
       "Iran                          41.860465\n",
       "France                        41.379310\n",
       "India                         40.000000\n",
       "Taiwan                        39.215686\n",
       "Japan                         38.709677\n",
       "Yugoslavia                    37.500000\n",
       "Cambodia                      36.842105\n",
       "Italy                         34.246575\n",
       "England                       33.333333\n",
       "Canada                        32.231405\n",
       "Germany                       32.116788\n",
       "Philippines                   30.808081\n",
       "Hong                          30.000000\n",
       "Greece                        27.586207\n",
       "China                         26.666667\n",
       "Cuba                          26.315789\n",
       "?                             25.042882\n",
       "Scotland                      25.000000\n",
       "United-States                 24.583476\n",
       "Hungary                       23.076923\n",
       "Ireland                       20.833333\n",
       "South                         20.000000\n",
       "Poland                        20.000000\n",
       "Thailand                      16.666667\n",
       "Ecuador                       14.285714\n",
       "Jamaica                       12.345679\n",
       "Laos                          11.111111\n",
       "Portugal                      10.810811\n",
       "Puerto-Rico                   10.526316\n",
       "Trinadad&Tobago               10.526316\n",
       "Haiti                          9.090909\n",
       "El-Salvador                    8.490566\n",
       "Honduras                       7.692308\n",
       "Vietnam                        7.462687\n",
       "Peru                           6.451613\n",
       "Nicaragua                      5.882353\n",
       "Mexico                         5.132193\n",
       "Guatemala                      4.687500\n",
       "Columbia                       3.389831\n",
       "Dominican-Republic             2.857143\n",
       "Holand-Netherlands                  NaN\n",
       "Outlying-US(Guam-USVI-etc)          NaN\n",
       "Name: native-country, dtype: float64"
      ]
     },
     "execution_count": 194,
     "metadata": {},
     "output_type": "execute_result"
    }
   ],
   "source": [
    "#highest earning country:\n",
    "total_countries = df['native-country'].value_counts()\n",
    "#total_countries\n",
    "total_50k = df[df['salary'] == '>50K']['native-country'].value_counts()\n",
    "\n",
    "highest_earning = (total_50k/total_countries * 100).sort_values(ascending=False)\n",
    "highest_earning"
   ]
  },
  {
   "cell_type": "code",
   "execution_count": null,
   "id": "45d84984",
   "metadata": {},
   "outputs": [],
   "source": []
  },
  {
   "cell_type": "code",
   "execution_count": 174,
   "id": "eefe90f4",
   "metadata": {},
   "outputs": [
    {
     "data": {
      "text/plain": [
       "occupation      \n",
       "Prof-specialty      25\n",
       "Exec-managerial      8\n",
       "Other-service        2\n",
       "Tech-support         2\n",
       "Adm-clerical         1\n",
       "Sales                1\n",
       "Transport-moving     1\n",
       "dtype: int64"
      ]
     },
     "execution_count": 174,
     "metadata": {},
     "output_type": "execute_result"
    }
   ],
   "source": [
    "#most popular occupation in India\n",
    "occ = df.loc[((df['salary'] == '>50K') & (df['native-country'] == 'India')), ['occupation']]\n",
    "occ.value_counts()"
   ]
  },
  {
   "cell_type": "code",
   "execution_count": null,
   "id": "5fc98900",
   "metadata": {},
   "outputs": [],
   "source": []
  },
  {
   "cell_type": "code",
   "execution_count": null,
   "id": "ea310a61",
   "metadata": {},
   "outputs": [],
   "source": []
  }
 ],
 "metadata": {
  "kernelspec": {
   "display_name": "Python 3 (ipykernel)",
   "language": "python",
   "name": "python3"
  },
  "language_info": {
   "codemirror_mode": {
    "name": "ipython",
    "version": 3
   },
   "file_extension": ".py",
   "mimetype": "text/x-python",
   "name": "python",
   "nbconvert_exporter": "python",
   "pygments_lexer": "ipython3",
   "version": "3.8.2"
  }
 },
 "nbformat": 4,
 "nbformat_minor": 5
}
